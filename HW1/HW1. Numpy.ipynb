{
 "cells": [
  {
   "cell_type": "markdown",
   "id": "0bb6d6f5",
   "metadata": {},
   "source": [
    "# Разминка"
   ]
  },
  {
   "cell_type": "markdown",
   "id": "37d2a46f",
   "metadata": {
    "ExecuteTime": {
     "end_time": "2021-08-07T17:08:20.430760Z",
     "start_time": "2021-08-07T17:08:20.427198Z"
    }
   },
   "source": [
    "Прочитайте про типизацию в Python: \n",
    "https://tproger.ru/articles/python-typing/ "
   ]
  },
  {
   "cell_type": "code",
   "execution_count": null,
   "id": "8d2be397",
   "metadata": {
    "ExecuteTime": {
     "end_time": "2021-08-07T17:10:31.598455Z",
     "start_time": "2021-08-07T17:10:31.595106Z"
    }
   },
   "outputs": [],
   "source": [
    "from typing import List, Union\n",
    "\n",
    "Num = Union[int, float]"
   ]
  },
  {
   "cell_type": "markdown",
   "id": "612299d5",
   "metadata": {},
   "source": [
    "0. Импортируйте numpy и убедитесь, что импорт прошёл без ошибок. "
   ]
  },
  {
   "cell_type": "code",
   "execution_count": null,
   "id": "c88aa138",
   "metadata": {},
   "outputs": [],
   "source": [
    "# ваш код тут"
   ]
  },
  {
   "cell_type": "markdown",
   "id": "c4a5cd11",
   "metadata": {},
   "source": [
    "1. Реализуйте векторное умножение (dot product) двух списков типа Python list на чистом Python (используя цикл, без дополнительных библиотек) как фукнцию pure_python_dot_product."
   ]
  },
  {
   "cell_type": "code",
   "execution_count": null,
   "id": "280fbcf6",
   "metadata": {
    "ExecuteTime": {
     "end_time": "2021-08-07T17:10:42.473320Z",
     "start_time": "2021-08-07T17:10:42.470153Z"
    }
   },
   "outputs": [],
   "source": [
    "def pure_python_dot_product(l1: List[Num], l2: List[Num]) -> float:\n",
    "    dot = 0\n",
    "    # ваш код тут\n",
    "    return dot"
   ]
  },
  {
   "cell_type": "markdown",
   "id": "7418f5e2",
   "metadata": {
    "ExecuteTime": {
     "end_time": "2021-08-07T16:49:57.316102Z",
     "start_time": "2021-08-07T16:49:57.313036Z"
    }
   },
   "source": [
    "2. За что отвечает функция assert?"
   ]
  },
  {
   "cell_type": "code",
   "execution_count": null,
   "id": "aa2f4bdd",
   "metadata": {},
   "outputs": [],
   "source": [
    "# ваш ответ тут"
   ]
  },
  {
   "cell_type": "markdown",
   "id": "93f33688",
   "metadata": {},
   "source": [
    "3. Замерьте скорость работы python_pure_dot_product на списках a и b, используя Jupyter magic %%timeit."
   ]
  },
  {
   "cell_type": "code",
   "execution_count": null,
   "id": "1a4b4ee4",
   "metadata": {
    "ExecuteTime": {
     "end_time": "2021-08-07T16:50:04.280555Z",
     "start_time": "2021-08-07T16:50:04.277353Z"
    }
   },
   "outputs": [],
   "source": [
    "a = range(1,10000,2)\n",
    "b = range(20000,40000, 4)\n",
    "assert len(a) == len(b)"
   ]
  },
  {
   "cell_type": "code",
   "execution_count": null,
   "id": "9678481b",
   "metadata": {},
   "outputs": [],
   "source": [
    "# ваш код тут"
   ]
  },
  {
   "cell_type": "markdown",
   "id": "ceb14a24",
   "metadata": {},
   "source": [
    "4. Реализуйте векторное умножение двух массивов типа ndarray, используя Numpy как функицю numpy_dot_product. В параметрах функции numpy_dot_product определите тип входящих переменных."
   ]
  },
  {
   "cell_type": "code",
   "execution_count": null,
   "id": "75d0a366",
   "metadata": {
    "ExecuteTime": {
     "end_time": "2021-08-07T17:00:35.610755Z",
     "start_time": "2021-08-07T17:00:35.607633Z"
    }
   },
   "outputs": [],
   "source": [
    "def numpy_dot_product(l1: ..., l2: ...) -> float:\n",
    "    dot = 0\n",
    "    # ваш код тут\n",
    "    return dot"
   ]
  },
  {
   "cell_type": "markdown",
   "id": "96daf536",
   "metadata": {
    "ExecuteTime": {
     "end_time": "2021-08-07T17:03:28.355746Z",
     "start_time": "2021-08-07T17:03:28.352113Z"
    }
   },
   "source": [
    "5. Преобразуйте списки a, b в массивы Numpy, запишите их соответственно в переменные a_ar, b_ar."
   ]
  },
  {
   "cell_type": "code",
   "execution_count": null,
   "id": "b9610db7",
   "metadata": {},
   "outputs": [],
   "source": [
    "# ваш код тут\n",
    "a_ar = None\n",
    "b_ar = None"
   ]
  },
  {
   "cell_type": "markdown",
   "id": "cf70c845",
   "metadata": {},
   "source": [
    "6. Замерьте скорость работы numpy_dot_product на массивах a_ar и b_ar, используя Jupyter magic %%timeit."
   ]
  },
  {
   "cell_type": "code",
   "execution_count": null,
   "id": "89297fad",
   "metadata": {},
   "outputs": [],
   "source": [
    "# ваш код тут"
   ]
  },
  {
   "cell_type": "markdown",
   "id": "4c055eec",
   "metadata": {},
   "source": [
    "# Чтение из файла. Использование функций Numpy"
   ]
  },
  {
   "cell_type": "markdown",
   "id": "630428c8",
   "metadata": {},
   "source": [
    "https://www.cs.toronto.edu/~frossard/post/linear_regression/"
   ]
  },
  {
   "cell_type": "markdown",
   "id": "f04aff6f",
   "metadata": {
    "ExecuteTime": {
     "end_time": "2021-08-27T13:28:50.924076Z",
     "start_time": "2021-08-27T13:28:50.921121Z"
    }
   },
   "source": [
    "1. Считайте в переменную data_x данные из файла 'data_x.npy' и выведите первые 5 элементов data_x."
   ]
  },
  {
   "cell_type": "code",
   "execution_count": null,
   "id": "925b5c07",
   "metadata": {},
   "outputs": [],
   "source": [
    "data_x = None # ваш код тут"
   ]
  },
  {
   "cell_type": "markdown",
   "id": "08ded015",
   "metadata": {
    "ExecuteTime": {
     "end_time": "2021-08-27T13:28:50.924076Z",
     "start_time": "2021-08-27T13:28:50.921121Z"
    }
   },
   "source": [
    "2. Считайте в переменную data_y данные из файла 'data_y.txt' и выведите первые 5 элементов data_y."
   ]
  },
  {
   "cell_type": "code",
   "execution_count": null,
   "id": "65ba70d4",
   "metadata": {},
   "outputs": [],
   "source": [
    "data_y = None # ваш код тут"
   ]
  },
  {
   "cell_type": "markdown",
   "id": "ceb41eea",
   "metadata": {},
   "source": [
    "Давайте визуализируем загруженные данные.  \n",
    "Для этого импортируем pyplot и выполняем простую визуализацию. Разбор визуализаций будет далее в курсе. Но если вы уже сейчас разберётесь, что делает код - будет отлично!"
   ]
  },
  {
   "cell_type": "markdown",
   "id": "98a3345e",
   "metadata": {},
   "source": [
    "Если у вас не импортируется matplotlib, надо его установить через pip / conda."
   ]
  },
  {
   "cell_type": "code",
   "execution_count": null,
   "id": "9a1228a5",
   "metadata": {
    "ExecuteTime": {
     "end_time": "2021-08-27T14:35:32.649944Z",
     "start_time": "2021-08-27T14:35:32.519610Z"
    }
   },
   "outputs": [],
   "source": [
    "from matplotlib import pyplot as plt\n",
    "\n",
    "plt.scatter(data_x, data_y)\n",
    "plt.xlabel('x data')\n",
    "plt.ylabel('y data')\n",
    "plt.show()"
   ]
  },
  {
   "cell_type": "markdown",
   "id": "f6f968b3",
   "metadata": {},
   "source": [
    "3. С помощью numpy найдите максимум, минимум и форму (shape) x и y."
   ]
  },
  {
   "cell_type": "code",
   "execution_count": null,
   "id": "106547c9",
   "metadata": {
    "ExecuteTime": {
     "end_time": "2021-08-27T13:39:42.031896Z",
     "start_time": "2021-08-27T13:39:42.027566Z"
    }
   },
   "outputs": [],
   "source": [
    "min_x = 0 # ваш код тут\n",
    "max_x = 0 # ваш код тут\n",
    "shape_x = 0 # ваш код тут\n",
    "\n",
    "min_y = 0 # ваш код тут\n",
    "max_y = 0 # ваш код тут\n",
    "shape_y = 0 # ваш код тут\n",
    "\n",
    "min_x, max_x, shape_x, min_y, max_y, shape_y"
   ]
  },
  {
   "cell_type": "markdown",
   "id": "6f78bb7f",
   "metadata": {},
   "source": [
    "На графике заметно, что между х и у есть некоторая зависимость. Давайте её смоделируем с помощью линейной регресии, написанной на numpy. Решать задачу линейной регресии будем с помощью методов наименших квадратов."
   ]
  },
  {
   "cell_type": "markdown",
   "id": "3a048b61",
   "metadata": {},
   "source": [
    "4. Для построения линейной регрессии нам надо добавить столбец единичек к data_x как, чтоб в итоге data_x имел вид :\n",
    "```\n",
    "array([[1.        , 0.1       ],\n",
    "          [1.        , 0.10909091],\n",
    "          [1.        , 0.11818182],\n",
    "          [1.        , 0.12727273],\n",
    "          [1.        , 0.13636364],\n",
    "          ......\n",
    "         ]])\n",
    "```\n",
    "\n",
    "Используя функции numpy hstack и ones_like, добавьте столбец единичек к матрице data_x."
   ]
  },
  {
   "cell_type": "code",
   "execution_count": null,
   "id": "d8093c6f",
   "metadata": {
    "ExecuteTime": {
     "end_time": "2021-08-27T13:52:14.974869Z",
     "start_time": "2021-08-27T13:52:14.972556Z"
    }
   },
   "outputs": [],
   "source": [
    "data_x = None # ваш код тут\n",
    "\n",
    "data_x[:5]"
   ]
  },
  {
   "cell_type": "markdown",
   "id": "0f7b41a7",
   "metadata": {},
   "source": [
    "Наш датасет готов. Теперь нам надо его случайным образом разделить на train и test части. Это стандартная процедура в решении задач машинного обучения. Мы считаем, что test часть - это данные, которые не видила модель, и оценка целевой метрики на этом фрагменте данных даёт нам основания полагать, как модель будет себя вести на новых данных, которые мы ей \"скормим\" после завершения разработки. Тренировочные данные обычно нужны только для обучения весов, а для задач бизнеса модель запускается на новых для неё данных. Мы будем говорить о разбитии датасета на несколько частей ещё в следующих лекциях."
   ]
  },
  {
   "cell_type": "markdown",
   "id": "3c54bc28",
   "metadata": {},
   "source": [
    "5. Наши данные похоже имеют тренд (значение y растёт со временем). Поэтому перед разделением данных мы не будем их перемешивать, как это часто делают.  \n",
    "Мы возьмём в test выборку последние 20 строк данных, а в трейн выборку - всё остальное. Создайте data_x, test_y, train_x, train_y, используя количество строк для теста, указанное в переменной portion."
   ]
  },
  {
   "cell_type": "code",
   "execution_count": null,
   "id": "ea8da9c7",
   "metadata": {
    "ExecuteTime": {
     "end_time": "2021-08-27T14:33:45.348272Z",
     "start_time": "2021-08-27T14:33:45.345548Z"
    }
   },
   "outputs": [],
   "source": [
    "portion = 20\n",
    "\n",
    "test_x = 0   # ваш код тут\n",
    "test_y = 0   # ваш код тут\n",
    "train_x = 0  # ваш код тут\n",
    "train_y = 0  # ваш код тут"
   ]
  },
  {
   "cell_type": "markdown",
   "id": "cf7b064a",
   "metadata": {},
   "source": [
    "Чтобы посмотреть, как разделились в случае правильной имплементации наши данные на трейн и тест выборки, запустите код ниже."
   ]
  },
  {
   "cell_type": "code",
   "execution_count": null,
   "id": "85954565",
   "metadata": {
    "ExecuteTime": {
     "end_time": "2021-08-27T14:55:46.287733Z",
     "start_time": "2021-08-27T14:55:46.175661Z"
    }
   },
   "outputs": [],
   "source": [
    "train_test_labels = [0]*(data_x.shape[0] - portion) + [1] * portion\n",
    "\n",
    "plt.scatter(data_x[:,1], data_y, c=train_test_labels)\n",
    "plt.xlabel('x data')\n",
    "plt.ylabel('y data')\n",
    "plt.show()"
   ]
  },
  {
   "cell_type": "markdown",
   "id": "921033e9",
   "metadata": {},
   "source": [
    "Видим, что тест - это последние 20% данных, которые другого цвета на графике."
   ]
  },
  {
   "cell_type": "markdown",
   "id": "121565e8",
   "metadata": {},
   "source": [
    "6. Теперь нам надо написать функцию поиска весов в линейной регресии. В этом вам помогут слайды с лекции. Найдите формулу для w и реализуйте её с помощью numpy. \n",
    "\n",
    "Используйте для поиска w train_x и train_y данные.\n",
    "\n",
    "Помните, что в формуле у нас происходит матричное умножение.\n",
    "\n",
    "Количество весов должно быть равно количеству колонок в train_x.\n"
   ]
  },
  {
   "cell_type": "code",
   "execution_count": null,
   "id": "27093624",
   "metadata": {},
   "outputs": [],
   "source": [
    "# ваш код тут\n",
    "w = None"
   ]
  },
  {
   "cell_type": "markdown",
   "id": "442d2581",
   "metadata": {},
   "source": [
    "7. Давайте теперь посмотрим на то, как выглядит то предсказание, которое строит наша модель с найденными весами.  \n",
    "\n",
    "Для начала напишем функцию, которая будет нам возвращать предсказания для заданного набора x и параметров модели w.  \n",
    "Функция `get_predict` должна возвращать произведение марицы x на w. Размерность возращаемого значения должна быть равна количеству строк в x."
   ]
  },
  {
   "cell_type": "code",
   "execution_count": null,
   "id": "2c95719d",
   "metadata": {
    "ExecuteTime": {
     "end_time": "2021-08-27T14:44:22.993979Z",
     "start_time": "2021-08-27T14:44:22.991608Z"
    }
   },
   "outputs": [],
   "source": [
    "def get_predict(x, w):\n",
    "    return 0 # ваш код тут"
   ]
  },
  {
   "cell_type": "code",
   "execution_count": null,
   "id": "f9ee7d44",
   "metadata": {
    "ExecuteTime": {
     "end_time": "2021-08-27T14:55:55.085330Z",
     "start_time": "2021-08-27T14:55:55.082639Z"
    }
   },
   "outputs": [],
   "source": [
    "train_predict = get_predict(train_x, w)\n",
    "test_predict = get_predict(test_x, w)\n",
    "full_data_predict = get_predict(data_x, w)"
   ]
  },
  {
   "cell_type": "code",
   "execution_count": null,
   "id": "5f22be48",
   "metadata": {
    "ExecuteTime": {
     "end_time": "2021-08-27T14:55:58.759900Z",
     "start_time": "2021-08-27T14:55:58.603053Z"
    }
   },
   "outputs": [],
   "source": [
    "train_test_labels = [0] * (data_x.shape[0] - portion) + [1] * portion\n",
    "\n",
    "plt.figure(figsize=(10,6))\n",
    "plt.scatter(data_x[:,1], data_y, c=train_test_labels)\n",
    "plt.plot(data_x[:,1], full_data_predict, color = \"green\", label = 'prediction')\n",
    "plt.xlabel('x data')\n",
    "plt.ylabel('y data')\n",
    "plt.legend()\n",
    "plt.show()"
   ]
  },
  {
   "cell_type": "markdown",
   "id": "0a36e051",
   "metadata": {},
   "source": [
    "Можем видеть, что мы неплохо угадали направление тренировочных данных, но не угадали динамику. Также на тестовой выборке в самом конце мы сильно ошибаемся (данные идут вверх более стремительно, чем линия предсказания).  \n",
    "\n",
    "Можем посмотреть отдельно на тестовой и тренировочной выборках взаимное расположение данных и предсказаний.   \n",
    "Запустите две клетки ниже."
   ]
  },
  {
   "cell_type": "code",
   "execution_count": null,
   "id": "4f1b0d71",
   "metadata": {
    "ExecuteTime": {
     "end_time": "2021-08-27T14:56:02.019631Z",
     "start_time": "2021-08-27T14:56:01.744966Z"
    }
   },
   "outputs": [],
   "source": [
    "plt.scatter(train_x[:,1], train_y, color = \"red\", label='real data')\n",
    "plt.plot(train_x[:,1], train_predict, color = \"green\", label = 'prediction')\n",
    "plt.title(\"Model vs real data (Training set)\")\n",
    "plt.xlabel(\"x\")\n",
    "plt.ylabel(\"y\")\n",
    "plt.legend()\n",
    "plt.show()"
   ]
  },
  {
   "cell_type": "code",
   "execution_count": null,
   "id": "c531c880",
   "metadata": {
    "ExecuteTime": {
     "end_time": "2021-08-27T14:56:07.744156Z",
     "start_time": "2021-08-27T14:56:07.581452Z"
    }
   },
   "outputs": [],
   "source": [
    "plt.scatter(test_x[:,1], test_y, color = \"blue\", label='real data')\n",
    "plt.plot(test_x[:,1], test_predict, color = \"green\", label = 'prediction')\n",
    "plt.title(\"Model vs real data (Test set)\")\n",
    "plt.xlabel(\"x\")\n",
    "plt.ylabel(\"y\")\n",
    "plt.legend()\n",
    "plt.show()"
   ]
  },
  {
   "cell_type": "markdown",
   "id": "bf236524",
   "metadata": {
    "ExecuteTime": {
     "end_time": "2021-08-27T14:57:36.833574Z",
     "start_time": "2021-08-27T14:57:36.830528Z"
    }
   },
   "source": [
    "Видим, что действительно, линия проходит ниже большинства точек тестового набора данных. Модель точно можно улучшить.\n",
    "\n",
    "Далее в курсе мы научимся это делать :)"
   ]
  }
 ],
 "metadata": {
  "kernelspec": {
   "display_name": "Python 3",
   "language": "python",
   "name": "python3"
  },
  "language_info": {
   "codemirror_mode": {
    "name": "ipython",
    "version": 3
   },
   "file_extension": ".py",
   "mimetype": "text/x-python",
   "name": "python",
   "nbconvert_exporter": "python",
   "pygments_lexer": "ipython3",
   "version": "3.8.8"
  },
  "toc": {
   "base_numbering": 1,
   "nav_menu": {},
   "number_sections": true,
   "sideBar": true,
   "skip_h1_title": false,
   "title_cell": "Table of Contents",
   "title_sidebar": "Contents",
   "toc_cell": false,
   "toc_position": {},
   "toc_section_display": true,
   "toc_window_display": false
  }
 },
 "nbformat": 4,
 "nbformat_minor": 5
}
